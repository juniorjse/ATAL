{
  "nbformat": 4,
  "nbformat_minor": 0,
  "metadata": {
    "colab": {
      "provenance": [],
      "include_colab_link": true
    },
    "kernelspec": {
      "name": "python3",
      "display_name": "Python 3"
    }
  },
  "cells": [
    {
      "cell_type": "markdown",
      "metadata": {
        "id": "view-in-github",
        "colab_type": "text"
      },
      "source": [
        "<a href=\"https://colab.research.google.com/github/juniorjse/ATAL/blob/main/NLTK.ipynb\" target=\"_parent\"><img src=\"https://colab.research.google.com/assets/colab-badge.svg\" alt=\"Open In Colab\"/></a>"
      ]
    },
    {
      "cell_type": "markdown",
      "metadata": {
        "id": "5jmoOHiwFIi4"
      },
      "source": [
        "Autores: Arnaldo Gualberto e Leandro B. Marinho.\n",
        "Documentação do NLTK: https://www.nltk.org/"
      ]
    },
    {
      "cell_type": "markdown",
      "metadata": {
        "id": "WRM4kEujWfvh"
      },
      "source": [
        "# Tutorial NLTK\n",
        "\n",
        "Nesse notebooks, nós vamos aprender o básico do módulo `NLTK`(*__N__atural __L__anguage __T__ool**K**it*).\n",
        "\n",
        "Primeiramente, vamos importar as bibliotecas python que vamos usar nesse tutorial:"
      ]
    },
    {
      "cell_type": "code",
      "metadata": {
        "id": "EJ5lxzoWTTkH"
      },
      "source": [
        "import nltk\n",
        "from nltk.corpus import stopwords\n",
        "from nltk.stem import PorterStemmer, SnowballStemmer, WordNetLemmatizer\n",
        "from nltk.tokenize import sent_tokenize, word_tokenize\n"
      ],
      "execution_count": null,
      "outputs": []
    },
    {
      "cell_type": "markdown",
      "metadata": {
        "id": "TSEiZiM-WyDH"
      },
      "source": [
        "e vamos fazer o download de alguns módulos específicos do NLTK:"
      ]
    },
    {
      "cell_type": "code",
      "metadata": {
        "id": "oovkh3xLWVob",
        "outputId": "12462213-580e-44d7-8f32-1c6aa7933f4e",
        "colab": {
          "base_uri": "https://localhost:8080/"
        }
      },
      "source": [
        "nltk.download('stopwords')\n",
        "nltk.download('wordnet')\n",
        "nltk.download('punkt')\n",
        "nltk.download('averaged_perceptron_tagger')"
      ],
      "execution_count": null,
      "outputs": [
        {
          "output_type": "stream",
          "name": "stderr",
          "text": [
            "[nltk_data] Downloading package stopwords to /root/nltk_data...\n",
            "[nltk_data]   Unzipping corpora/stopwords.zip.\n",
            "[nltk_data] Downloading package wordnet to /root/nltk_data...\n",
            "[nltk_data] Downloading package punkt to /root/nltk_data...\n",
            "[nltk_data]   Unzipping tokenizers/punkt.zip.\n",
            "[nltk_data] Downloading package averaged_perceptron_tagger to\n",
            "[nltk_data]     /root/nltk_data...\n",
            "[nltk_data]   Unzipping taggers/averaged_perceptron_tagger.zip.\n"
          ]
        },
        {
          "output_type": "execute_result",
          "data": {
            "text/plain": [
              "True"
            ]
          },
          "metadata": {},
          "execution_count": 2
        }
      ]
    },
    {
      "cell_type": "markdown",
      "metadata": {
        "id": "qTvWr6xRTmlt"
      },
      "source": [
        "# Tokenization"
      ]
    },
    {
      "cell_type": "markdown",
      "metadata": {
        "id": "LpficJZbXrnE"
      },
      "source": [
        "**Tokenization** é o processo de transformar um texto em uma lista de tokens. Esses tokens podem ser sentenças, palavras ou símbolos."
      ]
    },
    {
      "cell_type": "markdown",
      "metadata": {
        "id": "iq1pPGC5UUPC"
      },
      "source": [
        "### Sentence Tokenization"
      ]
    },
    {
      "cell_type": "code",
      "metadata": {
        "id": "cN91rVCVTjEe",
        "outputId": "f35b0ff5-ee96-4be3-bbf8-56fc78be5d7e",
        "colab": {
          "base_uri": "https://localhost:8080/"
        }
      },
      "source": [
        "text = \"\"\"Hello Mr. Smith, how are you doing today?\n",
        "    The weather is great, and city is awesome.\n",
        "    The sky is pinkish-blue. You shouldn't eat cardboard\n",
        "\"\"\"\n",
        "\n",
        "tokenized_sent = sent_tokenize(text)\n",
        "print(tokenized_sent)"
      ],
      "execution_count": null,
      "outputs": [
        {
          "output_type": "stream",
          "name": "stdout",
          "text": [
            "['Hello Mr. Smith, how are you doing today?', 'The weather is great, and city is awesome.', 'The sky is pinkish-blue.', \"You shouldn't eat cardboard\"]\n"
          ]
        }
      ]
    },
    {
      "cell_type": "markdown",
      "metadata": {
        "id": "n_Mjh26VvwoI"
      },
      "source": [
        "Nós também podemos tokenizar outras linguas:"
      ]
    },
    {
      "cell_type": "code",
      "metadata": {
        "id": "ppCFC0KivJFB",
        "outputId": "aace830e-6a05-4e07-ba23-c12766386efb",
        "colab": {
          "base_uri": "https://localhost:8080/",
          "height": 35
        }
      },
      "source": [
        "portuguese_text = \"Bom dia, Sr. Smith. Como você está? O tempo está bom, e a cidade maravilhosa.\"\n",
        "\n",
        "print(sent_tokenize(portuguese_text, \"portuguese\"))"
      ],
      "execution_count": null,
      "outputs": [
        {
          "output_type": "stream",
          "text": [
            "['Bom dia, Sr. Smith.', 'Como você está?', 'O tempo está bom, e a cidade maravilhosa.']\n"
          ],
          "name": "stdout"
        }
      ]
    },
    {
      "cell_type": "markdown",
      "metadata": {
        "id": "ZC8SE9fOUW5m"
      },
      "source": [
        "### Word Tokenization"
      ]
    },
    {
      "cell_type": "code",
      "metadata": {
        "id": "uKu1A9cyT6UA",
        "outputId": "0a7f31d9-13f2-469c-8872-b04708f755e2",
        "colab": {
          "base_uri": "https://localhost:8080/"
        }
      },
      "source": [
        "tokenized_word = word_tokenize(text)\n",
        "print(tokenized_word)"
      ],
      "execution_count": null,
      "outputs": [
        {
          "output_type": "stream",
          "name": "stdout",
          "text": [
            "['Hello', 'Mr.', 'Smith', ',', 'how', 'are', 'you', 'doing', 'today', '?', 'The', 'weather', 'is', 'great', ',', 'and', 'city', 'is', 'awesome', '.', 'The', 'sky', 'is', 'pinkish-blue', '.', 'You', 'should', \"n't\", 'eat', 'cardboard']\n"
          ]
        }
      ]
    },
    {
      "cell_type": "markdown",
      "metadata": {
        "id": "p7FppDhwVx_d"
      },
      "source": [
        "# Stopwords"
      ]
    },
    {
      "cell_type": "code",
      "metadata": {
        "id": "9miqaLILVjKz",
        "outputId": "12341a57-024f-49bc-b3bf-2991bec00485",
        "colab": {
          "base_uri": "https://localhost:8080/"
        }
      },
      "source": [
        "stop_words = set(stopwords.words(\"english\"))\n",
        "\n",
        "print(stop_words)"
      ],
      "execution_count": null,
      "outputs": [
        {
          "output_type": "stream",
          "name": "stdout",
          "text": [
            "{'but', 'only', 'here', 'that', \"weren't\", \"needn't\", 't', 'we', \"that'll\", 'a', 'most', 'her', 'on', 'above', 'against', 'aren', 'who', 'ourselves', \"wouldn't\", 'yourselves', 'again', 'with', \"shan't\", 'hadn', 've', 'few', 'were', 'the', \"you'd\", \"mustn't\", 'during', 'just', 'both', 'then', 'other', 'in', 'too', 'any', 'me', 'was', 'what', 'very', 'below', 'under', 'don', 'should', 'having', 'ain', 'ours', 'and', 'same', 'now', \"she's\", 'did', 'd', 'i', 'for', 'off', 'at', 'its', 'he', 'once', 'll', 'himself', \"you've\", 'how', 'out', 'further', 'him', 'whom', 'is', 's', 'from', 'each', 'not', 'hasn', \"mightn't\", 'up', 'or', 'm', 'does', 'your', 'has', 'of', 'didn', 'own', 'because', 'been', 'so', 'can', 'more', \"doesn't\", 'it', 'through', \"didn't\", 'am', \"hadn't\", 're', 'wouldn', 'an', 'mightn', 'mustn', 'by', \"it's\", 'ma', 'needn', 'have', 'doing', 'them', 'yours', 'y', 'his', 'themselves', 'why', 'wasn', \"you'll\", \"isn't\", 'our', 'all', 'do', 'these', 'as', 'no', 'doesn', 'theirs', 'when', \"haven't\", \"hasn't\", 'herself', 'if', 'some', \"don't\", 'about', 'before', 'they', 'isn', 'are', 'yourself', 'than', \"won't\", 'between', \"should've\", 'haven', 'down', 'itself', 'nor', 'which', 'after', 'over', 'where', \"shouldn't\", 'myself', 'until', 'be', 'couldn', 'hers', 'weren', 'you', 'will', 'she', 'had', 'those', \"couldn't\", 'there', 'won', 'into', 'such', 'this', \"wasn't\", 'their', 'shouldn', \"you're\", 'being', 'my', 'shan', 'to', 'while', \"aren't\", 'o'}\n"
          ]
        }
      ]
    },
    {
      "cell_type": "code",
      "metadata": {
        "id": "2abEeQF8moH6",
        "outputId": "d5ca9b27-21a2-4aac-aa1e-7b94ce669fd6",
        "colab": {
          "base_uri": "https://localhost:8080/"
        }
      },
      "source": [
        "filtered_words =  [word for word in tokenized_word if word not in stop_words]\n",
        "\n",
        "print(\"Tokenized Words:\", tokenized_word)\n",
        "print(\"Filterd Sentence:\", filtered_words)"
      ],
      "execution_count": null,
      "outputs": [
        {
          "output_type": "stream",
          "name": "stdout",
          "text": [
            "Tokenized Words: ['Hello', 'Mr.', 'Smith', ',', 'how', 'are', 'you', 'doing', 'today', '?', 'The', 'weather', 'is', 'great', ',', 'and', 'city', 'is', 'awesome', '.', 'The', 'sky', 'is', 'pinkish-blue', '.', 'You', 'should', \"n't\", 'eat', 'cardboard']\n",
            "Filterd Sentence: ['Hello', 'Mr.', 'Smith', ',', 'today', '?', 'The', 'weather', 'great', ',', 'city', 'awesome', '.', 'The', 'sky', 'pinkish-blue', '.', 'You', \"n't\", 'eat', 'cardboard']\n"
          ]
        }
      ]
    },
    {
      "cell_type": "markdown",
      "metadata": {
        "id": "bCVPWBAgoLLn"
      },
      "source": [
        "# Stemming"
      ]
    },
    {
      "cell_type": "markdown",
      "metadata": {
        "id": "uvVgjJh1oRwo"
      },
      "source": [
        "A **Stemming** reduz as palavras aos seus radicais. Por exemplo, as palavras *connection*, *connected*, *connecting* serão reduzidas a \"*connect*\". Há diversos algoritmos de stemming, mas o mais famoso é o `Porter stemming`."
      ]
    },
    {
      "cell_type": "code",
      "metadata": {
        "id": "5BG9nZY_m-xK",
        "outputId": "10ca94f8-7a7f-47a8-c725-09b716b787d1",
        "colab": {
          "base_uri": "https://localhost:8080/",
          "height": 52
        }
      },
      "source": [
        "example_words = ['connect', 'connected', 'connecting']\n",
        "\n",
        "ps = PorterStemmer()\n",
        "\n",
        "stemmed_words = [ps.stem(w) for w in example_words]\n",
        "\n",
        "print(\"Filtered Sentence:\", example_words)\n",
        "print(\"Stemmed Sentence:\", stemmed_words)"
      ],
      "execution_count": null,
      "outputs": [
        {
          "output_type": "stream",
          "text": [
            "Filtered Sentence: ['connect', 'connected', 'connecting']\n",
            "Stemmed Sentence: ['connect', 'connect', 'connect']\n"
          ],
          "name": "stdout"
        }
      ]
    },
    {
      "cell_type": "markdown",
      "metadata": {
        "id": "NbHqJ4mBwwtf"
      },
      "source": [
        "O algoritmo `SnowBall` pode faz o processo de stemming em até 13 línguas diferentes:"
      ]
    },
    {
      "cell_type": "code",
      "metadata": {
        "id": "RKehdjzfwoPz",
        "outputId": "6af2f538-5f4a-4e51-aa0d-ec495f19e532",
        "colab": {
          "base_uri": "https://localhost:8080/",
          "height": 55
        }
      },
      "source": [
        "print(SnowballStemmer.languages)"
      ],
      "execution_count": null,
      "outputs": [
        {
          "output_type": "stream",
          "text": [
            "('arabic', 'danish', 'dutch', 'english', 'finnish', 'french', 'german', 'hungarian', 'italian', 'norwegian', 'porter', 'portuguese', 'romanian', 'russian', 'spanish', 'swedish')\n"
          ],
          "name": "stdout"
        }
      ]
    },
    {
      "cell_type": "code",
      "metadata": {
        "id": "rKjqElS9xTCv",
        "outputId": "b2bb843e-e9bb-4aaa-ad3a-58e98568de30",
        "colab": {
          "base_uri": "https://localhost:8080/",
          "height": 35
        }
      },
      "source": [
        "example_words = ['conexão', 'conectado', 'conectando', 'conectar']\n",
        "\n",
        "ss = SnowballStemmer(\"portuguese\")\n",
        "\n",
        "stemmed_words = [ss.stem(w) for w in example_words]\n",
        "\n",
        "print('Stemmed sentence:', stemmed_words)"
      ],
      "execution_count": null,
      "outputs": [
        {
          "output_type": "stream",
          "text": [
            "Stemmed sentence: ['conexã', 'conect', 'conect', 'conect']\n"
          ],
          "name": "stdout"
        }
      ]
    },
    {
      "cell_type": "markdown",
      "metadata": {
        "id": "2v-4jMBmyj35"
      },
      "source": [
        "# Lemmatization"
      ]
    },
    {
      "cell_type": "markdown",
      "metadata": {
        "id": "YcEhAF2Ny02s"
      },
      "source": [
        "O processo de **Lemmatization** reduz as palavras à sua forma base, conhecida como *lemma*. Por exemplo, a palavra \"better\" tem \"good\" como sua lemma.  Em geral, é mais sofisticada que o stemming, pois leva em consideração o contexto. Entretanto, é mais lenta que o stemming."
      ]
    },
    {
      "cell_type": "code",
      "metadata": {
        "id": "fGa59T4DyjfX",
        "outputId": "ce722772-adbe-404c-8f57-7d11d329bee4",
        "colab": {
          "base_uri": "https://localhost:8080/",
          "height": 104
        }
      },
      "source": [
        "stemmer = PorterStemmer()\n",
        "print(stemmer.stem('stones'))\n",
        "print(stemmer.stem('speaking'))\n",
        "print(stemmer.stem('are'))\n",
        "print(stemmer.stem('geese'))\n",
        "print(stemmer.stem('went'))"
      ],
      "execution_count": null,
      "outputs": [
        {
          "output_type": "stream",
          "text": [
            "stone\n",
            "speak\n",
            "are\n",
            "gees\n",
            "went\n"
          ],
          "name": "stdout"
        }
      ]
    },
    {
      "cell_type": "code",
      "metadata": {
        "id": "z2t99kdF0Odw",
        "outputId": "531aea0c-1eeb-40cd-f137-f8288c8f3402",
        "colab": {
          "base_uri": "https://localhost:8080/",
          "height": 104
        }
      },
      "source": [
        "lemmatizer = WordNetLemmatizer()\n",
        "print(lemmatizer.lemmatize('stones'))\n",
        "print(lemmatizer.lemmatize('speaking',pos='v'))\n",
        "print(lemmatizer.lemmatize('are',pos='v'))\n",
        "print(lemmatizer.lemmatize('geese'))\n",
        "print(lemmatizer.lemmatize('went',pos='v'))"
      ],
      "execution_count": null,
      "outputs": [
        {
          "output_type": "stream",
          "text": [
            "stone\n",
            "speak\n",
            "be\n",
            "goose\n",
            "go\n"
          ],
          "name": "stdout"
        }
      ]
    },
    {
      "cell_type": "markdown",
      "metadata": {
        "id": "0X2KHx2JqX18"
      },
      "source": [
        "# POS Tagging"
      ]
    },
    {
      "cell_type": "markdown",
      "metadata": {
        "id": "I4oONY8Vq-Ly"
      },
      "source": [
        "O principal objetivo de **Part-of-Speech (POS)** é identificar o grupo gramatical de uma certa palavra: *nome, pronome, adjetivo, verbo, advérbio, etc. Ela leva em consideração o contexto e procura por relacionamentos dentro da sentença e atribui uma tag correspondente a palavra."
      ]
    },
    {
      "cell_type": "code",
      "metadata": {
        "id": "ZcoQOxHepioT",
        "outputId": "ff3f8b42-f4cb-4e85-d28a-35d91b4724b1",
        "colab": {
          "base_uri": "https://localhost:8080/",
          "height": 225
        }
      },
      "source": [
        "sent = \"Albert Einstein was born in Ulm, Germany in 1879.\"\n",
        "\n",
        "tokens = nltk.word_tokenize(sent)\n",
        "print('Sentence:', tokens)\n",
        "\n",
        "nltk.pos_tag(tokens)"
      ],
      "execution_count": null,
      "outputs": [
        {
          "output_type": "stream",
          "text": [
            "Sentence: ['Albert', 'Einstein', 'was', 'born', 'in', 'Ulm', ',', 'Germany', 'in', '1879', '.']\n"
          ],
          "name": "stdout"
        },
        {
          "output_type": "execute_result",
          "data": {
            "text/plain": [
              "[('Albert', 'NNP'),\n",
              " ('Einstein', 'NNP'),\n",
              " ('was', 'VBD'),\n",
              " ('born', 'VBN'),\n",
              " ('in', 'IN'),\n",
              " ('Ulm', 'NNP'),\n",
              " (',', ','),\n",
              " ('Germany', 'NNP'),\n",
              " ('in', 'IN'),\n",
              " ('1879', 'CD'),\n",
              " ('.', '.')]"
            ]
          },
          "metadata": {
            "tags": []
          },
          "execution_count": 17
        }
      ]
    },
    {
      "cell_type": "markdown",
      "metadata": {
        "id": "EKiswMgz4a0W"
      },
      "source": [
        "# N-Gramas\n"
      ]
    },
    {
      "cell_type": "markdown",
      "metadata": {
        "id": "EySPJDjO4hIm"
      },
      "source": [
        "Sequências sobrepostas de n-palavras."
      ]
    },
    {
      "cell_type": "code",
      "metadata": {
        "id": "NpvnfsJnqhFk",
        "outputId": "064612af-a609-4d04-bb01-74d2b583313f",
        "colab": {
          "base_uri": "https://localhost:8080/",
          "height": 55
        }
      },
      "source": [
        "from nltk import bigrams\n",
        "string_bigrams = list(bigrams(tokenized_word))\n",
        "print(string_bigrams)\n"
      ],
      "execution_count": null,
      "outputs": [
        {
          "output_type": "stream",
          "text": [
            "[('Hello', 'Mr.'), ('Mr.', 'Smith'), ('Smith', ','), (',', 'how'), ('how', 'are'), ('are', 'you'), ('you', 'doing'), ('doing', 'today'), ('today', '?'), ('?', 'The'), ('The', 'weather'), ('weather', 'is'), ('is', 'great'), ('great', ','), (',', 'and'), ('and', 'city'), ('city', 'is'), ('is', 'awesome'), ('awesome', '.'), ('.', 'The'), ('The', 'sky'), ('sky', 'is'), ('is', 'pinkish-blue'), ('pinkish-blue', '.'), ('.', 'You'), ('You', 'should'), ('should', \"n't\"), (\"n't\", 'eat'), ('eat', 'cardboard')]\n"
          ],
          "name": "stdout"
        }
      ]
    },
    {
      "cell_type": "code",
      "metadata": {
        "id": "cKactEzptH1n"
      },
      "source": [],
      "execution_count": null,
      "outputs": []
    }
  ]
}