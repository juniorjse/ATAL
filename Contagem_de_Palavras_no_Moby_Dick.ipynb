{
  "nbformat": 4,
  "nbformat_minor": 0,
  "metadata": {
    "colab": {
      "provenance": [],
      "include_colab_link": true
    },
    "kernelspec": {
      "name": "python3",
      "display_name": "Python 3"
    }
  },
  "cells": [
    {
      "cell_type": "markdown",
      "metadata": {
        "id": "view-in-github",
        "colab_type": "text"
      },
      "source": [
        "<a href=\"https://colab.research.google.com/github/juniorjse/ATAL/blob/main/Contagem_de_Palavras_no_Moby_Dick.ipynb\" target=\"_parent\"><img src=\"https://colab.research.google.com/assets/colab-badge.svg\" alt=\"Open In Colab\"/></a>"
      ]
    },
    {
      "cell_type": "markdown",
      "metadata": {
        "id": "D6wYk78pNHTk"
      },
      "source": [
        "O código deste notebook é baseado em: https://www.datacamp.com/projects/38"
      ]
    },
    {
      "cell_type": "code",
      "metadata": {
        "id": "MEg1z9k4wuO_"
      },
      "source": [
        "import requests\n",
        "from bs4 import BeautifulSoup\n",
        "import nltk"
      ],
      "execution_count": null,
      "outputs": []
    },
    {
      "cell_type": "code",
      "metadata": {
        "id": "htfenOm5zfvD",
        "outputId": "352a8c22-4a9c-4702-d9ac-52913f038b04",
        "colab": {
          "base_uri": "https://localhost:8080/"
        }
      },
      "source": [
        "r = requests.get(\"https://www.gutenberg.org/files/2701/2701-h/2701-h.htm\")\n",
        "\n",
        "r.encoding = 'utf-8'\n",
        "\n",
        "html = r.text\n",
        "\n",
        "print(html[0:2000])"
      ],
      "execution_count": null,
      "outputs": [
        {
          "output_type": "stream",
          "name": "stdout",
          "text": [
            "<!DOCTYPE html PUBLIC \"-//W3C//DTD XHTML 1.0 Strict//EN\"\r\n",
            "\"http://www.w3.org/TR/xhtml1/DTD/xhtml1-strict.dtd\">\r\n",
            "<html xmlns=\"http://www.w3.org/1999/xhtml\" xml:lang=\"en\" lang=\"en\">\r\n",
            "<head>\r\n",
            "<meta http-equiv=\"Content-Type\" content=\"text/html;charset=utf-8\" />\r\n",
            "<meta http-equiv=\"Content-Style-Type\" content=\"text/css\" />\r\n",
            "<title>The Project Gutenberg eBook of Moby Dick; Or the Whale, by Herman Melville</title>\r\n",
            "\r\n",
            "<style type=\"text/css\" xml:space=\"preserve\">\r\n",
            "\r\n",
            "    body {margin-left:15%; margin-right:15%; text-align:justify }\r\n",
            "    p { text-indent: 1em; margin-top: .25em; margin-bottom: .25em; }\r\n",
            "    H1,H2,H3,H4,H5,H6 { text-align: center; margin-left: 15%; margin-right: 15%; }\r\n",
            "    hr  { width: 50%; text-align: center;}\r\n",
            "    blockquote {font-size: 100%; margin-left: 0%; margin-right: 0%;}\r\n",
            "    .mynote    {background-color: #DDE; color: #000; padding: .5em; margin-left: 10%; margin-right: 10%; font-family: sans-serif; font-size: 95%;}\r\n",
            "    .toc       { margin-left: 10%; margin-bottom: .75em;}\r\n",
            "    pre        { font-family: times new roman; font-size: 100%; margin-left: 10%;}\r\n",
            "\r\n",
            "    table      {margin-left: 10%;}\r\n",
            "\r\n",
            "a:link {color:blue;\r\n",
            "\t\ttext-decoration:none}\r\n",
            "link {color:blue;\r\n",
            "\t\ttext-decoration:none}\r\n",
            "a:visited {color:blue;\r\n",
            "\t\ttext-decoration:none}\r\n",
            "a:hover {color:red}\r\n",
            "\r\n",
            "</style>\r\n",
            "  </head>\r\n",
            "  <body>\r\n",
            "\r\n",
            "<div style='text-align:center; font-size:1.2em; font-weight:bold;'>The Project Gutenberg eBook of Moby-Dick; or The Whale, by Herman Melville</div>\r\n",
            "<div style='display:block; margin:1em 0'>\r\n",
            "This eBook is for the use of anyone anywhere in the United States and\r\n",
            "most other parts of the world at no cost and with almost no restrictions\r\n",
            "whatsoever. You may copy it, give it away or re-use it under the terms\r\n",
            "of the Project Gutenberg License included with this eBook or online\r\n",
            "at <a href=\"https://www.gutenberg.org\">www.gutenberg.org</a>. If you\r\n",
            "are not located in the United States, you will have to check the laws of the\r\n",
            "country where you are located before using this eBoo\n"
          ]
        }
      ]
    },
    {
      "cell_type": "code",
      "metadata": {
        "id": "Z4lC4y_Izzce",
        "outputId": "4e80491a-76a5-4a2a-b5eb-9010d81b5b61",
        "colab": {
          "base_uri": "https://localhost:8080/"
        }
      },
      "source": [
        "soup = BeautifulSoup(html, 'html.parser')\n",
        "\n",
        "text = soup.get_text()\n",
        "\n",
        "print(text[32000:34000])"
      ],
      "execution_count": null,
      "outputs": [
        {
          "output_type": "stream",
          "name": "stdout",
          "text": [
            "    harpooneer is striking the whale!” —Nantucket Song.\r\n",
            "      \n",
            "\r\n",
            "     “Oh, the rare old Whale, mid storm and gale\r\n",
            "     In his ocean home will be\r\n",
            "     A giant in might, where might is right,\r\n",
            "     And King of the boundless sea.”\r\n",
            "      —Whale Song.\r\n",
            "\n",
            "\n",
            "\n",
            "\n",
            "\n",
            " \n",
            "\n",
            "\n",
            "\n",
            "\n",
            "\r\n",
            "      CHAPTER 1. Loomings.\r\n",
            "    \n",
            "\r\n",
            "      Call me Ishmael. Some years ago—never mind how long precisely—having\r\n",
            "      little or no money in my purse, and nothing particular to interest me on\r\n",
            "      shore, I thought I would sail about a little and see the watery part of\r\n",
            "      the world. It is a way I have of driving off the spleen and regulating the\r\n",
            "      circulation. Whenever I find myself growing grim about the mouth; whenever\r\n",
            "      it is a damp, drizzly November in my soul; whenever I find myself\r\n",
            "      involuntarily pausing before coffin warehouses, and bringing up the rear\r\n",
            "      of every funeral I meet; and especially whenever my hypos get such an\r\n",
            "      upper hand of me, that it requires a strong moral principle to prevent me\r\n",
            "      from deliberately stepping into the street, and methodically knocking\r\n",
            "      people’s hats off—then, I account it high time to get to sea as soon\r\n",
            "      as I can. This is my substitute for pistol and ball. With a philosophical\r\n",
            "      flourish Cato throws himself upon his sword; I quietly take to the ship.\r\n",
            "      There is nothing surprising in this. If they but knew it, almost all men\r\n",
            "      in their degree, some time or other, cherish very nearly the same feelings\r\n",
            "      towards the ocean with me.\r\n",
            "    \n",
            "\r\n",
            "      There now is your insular city of the Manhattoes, belted round by wharves\r\n",
            "      as Indian isles by coral reefs—commerce surrounds it with her surf.\r\n",
            "      Right and left, the streets take you waterward. Its extreme downtown is\r\n",
            "      the battery, where that noble mole is washed by waves, and cooled by\r\n",
            "      breezes, which a few hours previous were out of sight of land. Look at the\r\n",
            "      crowds of water-gazers there.\r\n",
            "    \n",
            "\r\n",
            "      Circumambulate the city of a d\n"
          ]
        }
      ]
    },
    {
      "cell_type": "code",
      "metadata": {
        "id": "zC1lUqpn0MwJ",
        "outputId": "1f525044-d59a-4d2f-9256-5b23eb6b2589",
        "colab": {
          "base_uri": "https://localhost:8080/"
        }
      },
      "source": [
        "tokenizer = nltk.tokenize.RegexpTokenizer('\\w+')\n",
        "\n",
        "tokens = tokenizer.tokenize(text)\n",
        "\n",
        "print(tokens[0:8])"
      ],
      "execution_count": null,
      "outputs": [
        {
          "output_type": "stream",
          "name": "stdout",
          "text": [
            "['The', 'Project', 'Gutenberg', 'eBook', 'of', 'Moby', 'Dick', 'Or']\n"
          ]
        }
      ]
    },
    {
      "cell_type": "code",
      "metadata": {
        "id": "JV2rJSzH4Wdr",
        "outputId": "428f236b-d06f-4043-91ec-30eaa293c395",
        "colab": {
          "base_uri": "https://localhost:8080/"
        }
      },
      "source": [
        "words = []\n",
        "\n",
        "for word in tokens:\n",
        "  words.append(word.lower())\n",
        "\n",
        "print(words[0:8])"
      ],
      "execution_count": null,
      "outputs": [
        {
          "output_type": "stream",
          "name": "stdout",
          "text": [
            "['the', 'project', 'gutenberg', 'ebook', 'of', 'moby', 'dick', 'or']\n"
          ]
        }
      ]
    },
    {
      "cell_type": "code",
      "metadata": {
        "id": "yvhdF_Ia4qCv",
        "outputId": "0899d961-ede4-4d39-bac2-12d6027c469d",
        "colab": {
          "base_uri": "https://localhost:8080/"
        }
      },
      "source": [
        "from nltk.corpus import stopwords\n",
        "nltk.download('stopwords')\n",
        "sw = stopwords.words('english')"
      ],
      "execution_count": null,
      "outputs": [
        {
          "output_type": "stream",
          "name": "stderr",
          "text": [
            "[nltk_data] Downloading package stopwords to /root/nltk_data...\n",
            "[nltk_data]   Unzipping corpora/stopwords.zip.\n"
          ]
        }
      ]
    },
    {
      "cell_type": "code",
      "metadata": {
        "id": "wiZXkaU856sX"
      },
      "source": [
        "words_ns =  [word for word in words if word not in sw]"
      ],
      "execution_count": null,
      "outputs": []
    },
    {
      "cell_type": "code",
      "metadata": {
        "id": "ipDO31-b6p1N",
        "outputId": "feae3a38-3281-41f6-c8e3-7b28f84e341e",
        "colab": {
          "base_uri": "https://localhost:8080/"
        }
      },
      "source": [
        "print(words_ns[0:8])"
      ],
      "execution_count": null,
      "outputs": [
        {
          "output_type": "stream",
          "name": "stdout",
          "text": [
            "['project', 'gutenberg', 'ebook', 'moby', 'dick', 'whale', 'herman', 'melville']\n"
          ]
        }
      ]
    },
    {
      "cell_type": "code",
      "metadata": {
        "id": "kiuS1Mz86vLl"
      },
      "source": [
        "freqdist = nltk.FreqDist(words_ns)"
      ],
      "execution_count": null,
      "outputs": []
    },
    {
      "cell_type": "code",
      "metadata": {
        "id": "lSeKHy4n8RgQ",
        "outputId": "7e7ad6aa-072e-4d49-c1e2-683ee89c654a",
        "colab": {
          "base_uri": "https://localhost:8080/"
        }
      },
      "source": [
        "freqdist"
      ],
      "execution_count": null,
      "outputs": [
        {
          "output_type": "execute_result",
          "data": {
            "text/plain": [
              "FreqDist({'whale': 1244, 'one': 925, 'like': 647, 'upon': 568, 'man': 527, 'ship': 519, 'ahab': 517, 'ye': 473, 'sea': 455, 'old': 452, ...})"
            ]
          },
          "metadata": {},
          "execution_count": 11
        }
      ]
    },
    {
      "cell_type": "code",
      "metadata": {
        "id": "A9wTqaib8WRd",
        "outputId": "55c659ce-c870-4993-a074-082cb0f4f6a7",
        "colab": {
          "base_uri": "https://localhost:8080/",
          "height": 351
        }
      },
      "source": [
        "%matplotlib inline\n",
        "\n",
        "freqdist.plot(500)"
      ],
      "execution_count": null,
      "outputs": [
        {
          "output_type": "display_data",
          "data": {
            "text/plain": [
              "<Figure size 432x288 with 1 Axes>"
            ],
            "image/png": "[encoded data removed]"
          },
          "metadata": {
            "needs_background": "light"
          }
        },
        {
          "output_type": "execute_result",
          "data": {
            "text/plain": [
              "<matplotlib.axes._subplots.AxesSubplot at 0x7fe74541cf10>"
            ]
          },
          "metadata": {},
          "execution_count": 14
        }
      ]
    },
    {
      "cell_type": "code",
      "metadata": {
        "id": "ncyncCX78Sz7"
      },
      "source": [],
      "execution_count": null,
      "outputs": []
    }
  ]
}